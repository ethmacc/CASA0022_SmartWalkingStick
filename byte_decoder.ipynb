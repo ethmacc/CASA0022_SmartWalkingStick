{
 "cells": [
  {
   "cell_type": "code",
   "execution_count": 102,
   "id": "3dfae135-af8d-495c-ac67-d65d867698ed",
   "metadata": {},
   "outputs": [],
   "source": [
    "import struct\n",
    "import binascii"
   ]
  },
  {
   "cell_type": "code",
   "execution_count": 161,
   "id": "e5222b70-8e17-4b15-8736-f99548999d9f",
   "metadata": {},
   "outputs": [],
   "source": [
    "data = \"8>=<>=619><=?>977:=>>;;;6;;@<;994:97;958/5654463+.133012(+/1/,-.\""
   ]
  },
  {
   "cell_type": "code",
   "execution_count": 162,
   "id": "69aea2d5-3ce6-4610-b212-c3c06b8b0bd1",
   "metadata": {},
   "outputs": [
    {
     "ename": "Error",
     "evalue": "Non-hexadecimal digit found",
     "output_type": "error",
     "traceback": [
      "\u001b[1;31m---------------------------------------------------------------------------\u001b[0m",
      "\u001b[1;31mError\u001b[0m                                     Traceback (most recent call last)",
      "Cell \u001b[1;32mIn[162], line 1\u001b[0m\n\u001b[1;32m----> 1\u001b[0m unhex \u001b[38;5;241m=\u001b[39m \u001b[43mbinascii\u001b[49m\u001b[38;5;241;43m.\u001b[39;49m\u001b[43munhexlify\u001b[49m\u001b[43m(\u001b[49m\u001b[43mdata\u001b[49m\u001b[43m)\u001b[49m\n\u001b[0;32m      2\u001b[0m unhex\n",
      "\u001b[1;31mError\u001b[0m: Non-hexadecimal digit found"
     ]
    }
   ],
   "source": [
    "unhex = binascii.unhexlify(data)\n",
    "unhex"
   ]
  },
  {
   "cell_type": "code",
   "execution_count": 175,
   "id": "9ba3343d-ac32-4761-96b6-930a0804abe7",
   "metadata": {},
   "outputs": [
    {
     "data": {
      "text/plain": [
       "(56,\n",
       " 62,\n",
       " 61,\n",
       " 60,\n",
       " 62,\n",
       " 61,\n",
       " 54,\n",
       " 49,\n",
       " 57,\n",
       " 62,\n",
       " 60,\n",
       " 61,\n",
       " 63,\n",
       " 62,\n",
       " 57,\n",
       " 55,\n",
       " 55,\n",
       " 58,\n",
       " 61,\n",
       " 62,\n",
       " 62,\n",
       " 59,\n",
       " 59,\n",
       " 59,\n",
       " 54,\n",
       " 59,\n",
       " 59,\n",
       " 64,\n",
       " 60,\n",
       " 59,\n",
       " 57,\n",
       " 57,\n",
       " 52,\n",
       " 58,\n",
       " 57,\n",
       " 55,\n",
       " 59,\n",
       " 57,\n",
       " 53,\n",
       " 56,\n",
       " 47,\n",
       " 53,\n",
       " 54,\n",
       " 53,\n",
       " 52,\n",
       " 52,\n",
       " 54,\n",
       " 51,\n",
       " 43,\n",
       " 46,\n",
       " 49,\n",
       " 51,\n",
       " 51,\n",
       " 48,\n",
       " 49,\n",
       " 50,\n",
       " 40,\n",
       " 43,\n",
       " 47,\n",
       " 49,\n",
       " 47,\n",
       " 44,\n",
       " 45,\n",
       " 46)"
      ]
     },
     "execution_count": 175,
     "metadata": {},
     "output_type": "execute_result"
    }
   ],
   "source": [
    "test = struct.unpack('64b', bytearray(data, 'ascii'))\n",
    "test"
   ]
  },
  {
   "cell_type": "code",
   "execution_count": 109,
   "id": "08bcc2aa-d947-4ef6-acc7-038fdd874fd7",
   "metadata": {},
   "outputs": [
    {
     "data": {
      "text/plain": [
       "64"
      ]
     },
     "execution_count": 109,
     "metadata": {},
     "output_type": "execute_result"
    }
   ],
   "source": [
    "len(unhex)"
   ]
  },
  {
   "cell_type": "code",
   "execution_count": 173,
   "id": "f7dbc6fa-5244-48b1-a821-b6ba8f542aa9",
   "metadata": {},
   "outputs": [
    {
     "data": {
      "text/plain": [
       "b'8\\x00'"
      ]
     },
     "execution_count": 173,
     "metadata": {},
     "output_type": "execute_result"
    }
   ],
   "source": [
    "struct.pack('h', 56)"
   ]
  },
  {
   "cell_type": "code",
   "execution_count": 136,
   "id": "b6e943d9-edd2-4569-895f-238c1ab27b1d",
   "metadata": {},
   "outputs": [
    {
     "data": {
      "text/plain": [
       "6"
      ]
     },
     "execution_count": 136,
     "metadata": {},
     "output_type": "execute_result"
    }
   ],
   "source": [
    "unhex[63]"
   ]
  },
  {
   "cell_type": "code",
   "execution_count": null,
   "id": "2e13e3c8-72a3-4aa7-9748-bcb6c6a6a2a0",
   "metadata": {},
   "outputs": [],
   "source": []
  }
 ],
 "metadata": {
  "kernelspec": {
   "display_name": "Python 3 (ipykernel)",
   "language": "python",
   "name": "python3"
  },
  "language_info": {
   "codemirror_mode": {
    "name": "ipython",
    "version": 3
   },
   "file_extension": ".py",
   "mimetype": "text/x-python",
   "name": "python",
   "nbconvert_exporter": "python",
   "pygments_lexer": "ipython3",
   "version": "3.11.5"
  }
 },
 "nbformat": 4,
 "nbformat_minor": 5
}
