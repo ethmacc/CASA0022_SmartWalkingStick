{
 "cells": [
  {
   "cell_type": "code",
   "execution_count": 3,
   "id": "3dfae135-af8d-495c-ac67-d65d867698ed",
   "metadata": {},
   "outputs": [],
   "source": [
    "import struct\n",
    "import binascii"
   ]
  },
  {
   "cell_type": "code",
   "execution_count": 4,
   "id": "e5222b70-8e17-4b15-8736-f99548999d9f",
   "metadata": {},
   "outputs": [],
   "source": [
    "data = \"170019001a001a001a001a00190018001c001d001e001d001d001e001d001b00220022002000250024002100240027002a00280029002a00280028002b002b003700340030002e00300033003300350042003c003d003b0038003c003f00460050004f005200510045004f004f005500a50095007c00770079007e008700a0001c001c001b001a001c001c00190016002200220022001f00200020001d001e002900260022002300230023002200230031002f002a002a002900260022001d00380035002e002a0028002200170010002f003000260020001e001a00210033008900550047003f003c00450043004300bc00a60091007a00730061004a003700\""
   ]
  },
  {
   "cell_type": "code",
   "execution_count": 5,
   "id": "69aea2d5-3ce6-4610-b212-c3c06b8b0bd1",
   "metadata": {},
   "outputs": [
    {
     "data": {
      "text/plain": [
       "b'\\x17\\x00\\x19\\x00\\x1a\\x00\\x1a\\x00\\x1a\\x00\\x1a\\x00\\x19\\x00\\x18\\x00\\x1c\\x00\\x1d\\x00\\x1e\\x00\\x1d\\x00\\x1d\\x00\\x1e\\x00\\x1d\\x00\\x1b\\x00\"\\x00\"\\x00 \\x00%\\x00$\\x00!\\x00$\\x00\\'\\x00*\\x00(\\x00)\\x00*\\x00(\\x00(\\x00+\\x00+\\x007\\x004\\x000\\x00.\\x000\\x003\\x003\\x005\\x00B\\x00<\\x00=\\x00;\\x008\\x00<\\x00?\\x00F\\x00P\\x00O\\x00R\\x00Q\\x00E\\x00O\\x00O\\x00U\\x00\\xa5\\x00\\x95\\x00|\\x00w\\x00y\\x00~\\x00\\x87\\x00\\xa0\\x00\\x1c\\x00\\x1c\\x00\\x1b\\x00\\x1a\\x00\\x1c\\x00\\x1c\\x00\\x19\\x00\\x16\\x00\"\\x00\"\\x00\"\\x00\\x1f\\x00 \\x00 \\x00\\x1d\\x00\\x1e\\x00)\\x00&\\x00\"\\x00#\\x00#\\x00#\\x00\"\\x00#\\x001\\x00/\\x00*\\x00*\\x00)\\x00&\\x00\"\\x00\\x1d\\x008\\x005\\x00.\\x00*\\x00(\\x00\"\\x00\\x17\\x00\\x10\\x00/\\x000\\x00&\\x00 \\x00\\x1e\\x00\\x1a\\x00!\\x003\\x00\\x89\\x00U\\x00G\\x00?\\x00<\\x00E\\x00C\\x00C\\x00\\xbc\\x00\\xa6\\x00\\x91\\x00z\\x00s\\x00a\\x00J\\x007\\x00'"
      ]
     },
     "execution_count": 5,
     "metadata": {},
     "output_type": "execute_result"
    }
   ],
   "source": [
    "unhex = binascii.unhexlify(data)\n",
    "unhex"
   ]
  },
  {
   "cell_type": "code",
   "execution_count": 13,
   "id": "9ba3343d-ac32-4761-96b6-930a0804abe7",
   "metadata": {},
   "outputs": [
    {
     "data": {
      "text/plain": [
       "(23,\n",
       " 25,\n",
       " 26,\n",
       " 26,\n",
       " 26,\n",
       " 26,\n",
       " 25,\n",
       " 24,\n",
       " 28,\n",
       " 29,\n",
       " 30,\n",
       " 29,\n",
       " 29,\n",
       " 30,\n",
       " 29,\n",
       " 27,\n",
       " 34,\n",
       " 34,\n",
       " 32,\n",
       " 37,\n",
       " 36,\n",
       " 33,\n",
       " 36,\n",
       " 39,\n",
       " 42,\n",
       " 40,\n",
       " 41,\n",
       " 42,\n",
       " 40,\n",
       " 40,\n",
       " 43,\n",
       " 43,\n",
       " 55,\n",
       " 52,\n",
       " 48,\n",
       " 46,\n",
       " 48,\n",
       " 51,\n",
       " 51,\n",
       " 53,\n",
       " 66,\n",
       " 60,\n",
       " 61,\n",
       " 59,\n",
       " 56,\n",
       " 60,\n",
       " 63,\n",
       " 70,\n",
       " 80,\n",
       " 79,\n",
       " 82,\n",
       " 81,\n",
       " 69,\n",
       " 79,\n",
       " 79,\n",
       " 85,\n",
       " 165,\n",
       " 149,\n",
       " 124,\n",
       " 119,\n",
       " 121,\n",
       " 126,\n",
       " 135,\n",
       " 160,\n",
       " 28,\n",
       " 28,\n",
       " 27,\n",
       " 26,\n",
       " 28,\n",
       " 28,\n",
       " 25,\n",
       " 22,\n",
       " 34,\n",
       " 34,\n",
       " 34,\n",
       " 31,\n",
       " 32,\n",
       " 32,\n",
       " 29,\n",
       " 30,\n",
       " 41,\n",
       " 38,\n",
       " 34,\n",
       " 35,\n",
       " 35,\n",
       " 35,\n",
       " 34,\n",
       " 35,\n",
       " 49,\n",
       " 47,\n",
       " 42,\n",
       " 42,\n",
       " 41,\n",
       " 38,\n",
       " 34,\n",
       " 29,\n",
       " 56,\n",
       " 53,\n",
       " 46,\n",
       " 42,\n",
       " 40,\n",
       " 34,\n",
       " 23,\n",
       " 16,\n",
       " 47,\n",
       " 48,\n",
       " 38,\n",
       " 32,\n",
       " 30,\n",
       " 26,\n",
       " 33,\n",
       " 51,\n",
       " 137,\n",
       " 85,\n",
       " 71,\n",
       " 63,\n",
       " 60,\n",
       " 69,\n",
       " 67,\n",
       " 67,\n",
       " 188,\n",
       " 166,\n",
       " 145,\n",
       " 122,\n",
       " 115,\n",
       " 97,\n",
       " 74,\n",
       " 55)"
      ]
     },
     "execution_count": 13,
     "metadata": {},
     "output_type": "execute_result"
    }
   ],
   "source": [
    "test = struct.unpack('128h', unhex)\n",
    "test"
   ]
  },
  {
   "cell_type": "code",
   "execution_count": 8,
   "id": "08bcc2aa-d947-4ef6-acc7-038fdd874fd7",
   "metadata": {},
   "outputs": [
    {
     "data": {
      "text/plain": [
       "256"
      ]
     },
     "execution_count": 8,
     "metadata": {},
     "output_type": "execute_result"
    }
   ],
   "source": [
    "len(unhex)"
   ]
  },
  {
   "cell_type": "code",
   "execution_count": 173,
   "id": "f7dbc6fa-5244-48b1-a821-b6ba8f542aa9",
   "metadata": {},
   "outputs": [
    {
     "data": {
      "text/plain": [
       "b'8\\x00'"
      ]
     },
     "execution_count": 173,
     "metadata": {},
     "output_type": "execute_result"
    }
   ],
   "source": [
    "struct.pack('h', 56)"
   ]
  },
  {
   "cell_type": "code",
   "execution_count": 136,
   "id": "b6e943d9-edd2-4569-895f-238c1ab27b1d",
   "metadata": {},
   "outputs": [
    {
     "data": {
      "text/plain": [
       "6"
      ]
     },
     "execution_count": 136,
     "metadata": {},
     "output_type": "execute_result"
    }
   ],
   "source": [
    "unhex[63]"
   ]
  },
  {
   "cell_type": "code",
   "execution_count": null,
   "id": "2e13e3c8-72a3-4aa7-9748-bcb6c6a6a2a0",
   "metadata": {},
   "outputs": [],
   "source": []
  }
 ],
 "metadata": {
  "kernelspec": {
   "display_name": "Python 3 (ipykernel)",
   "language": "python",
   "name": "python3"
  },
  "language_info": {
   "codemirror_mode": {
    "name": "ipython",
    "version": 3
   },
   "file_extension": ".py",
   "mimetype": "text/x-python",
   "name": "python",
   "nbconvert_exporter": "python",
   "pygments_lexer": "ipython3",
   "version": "3.11.5"
  }
 },
 "nbformat": 4,
 "nbformat_minor": 5
}
